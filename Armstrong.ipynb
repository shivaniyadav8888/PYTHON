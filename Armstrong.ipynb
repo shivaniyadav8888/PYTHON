{
  "nbformat": 4,
  "nbformat_minor": 0,
  "metadata": {
    "colab": {
      "provenance": []
    },
    "kernelspec": {
      "name": "python3",
      "display_name": "Python 3"
    },
    "language_info": {
      "name": "python"
    }
  },
  "cells": [
    {
      "cell_type": "code",
      "execution_count": 8,
      "metadata": {
        "colab": {
          "base_uri": "https://localhost:8080/"
        },
        "id": "3gkXiX60LgsS",
        "outputId": "af212b7b-d4a6-41f9-9cc1-62c15f4ac3ea"
      },
      "outputs": [
        {
          "output_type": "stream",
          "name": "stdout",
          "text": [
            "Enter a Number:2345\n",
            "sorry\n"
          ]
        }
      ],
      "source": [
        "n=int(input(\"Enter a Number:\"))\n",
        "y=n\n",
        "count=0\n",
        "sum=0\n",
        "while(n!=0):\n",
        "  n=n/10\n",
        "  count += 1\n",
        "while(n>0):\n",
        "    x=n%10\n",
        "    x=x**n\n",
        "    sum=sum+x\n",
        "    n=n/10\n",
        "if(y==sum):\n",
        "    print(\"Armstrong\")\n",
        "else:\n",
        "    print(\"sorry\")"
      ]
    }
  ]
}