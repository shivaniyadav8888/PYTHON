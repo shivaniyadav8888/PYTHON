{
  "nbformat": 4,
  "nbformat_minor": 0,
  "metadata": {
    "colab": {
      "provenance": []
    },
    "kernelspec": {
      "name": "python3",
      "display_name": "Python 3"
    },
    "language_info": {
      "name": "python"
    }
  },
  "cells": [
    {
      "cell_type": "code",
      "execution_count": 1,
      "metadata": {
        "colab": {
          "base_uri": "https://localhost:8080/"
        },
        "id": "tkugFx_CKBGM",
        "outputId": "e1afc2e6-8eb0-4ae3-a64f-ca26581c1b67"
      },
      "outputs": [
        {
          "output_type": "stream",
          "name": "stdout",
          "text": [
            "Enter a no.67\n",
            "0\n",
            "1\n",
            "1\n",
            "2\n",
            "3\n",
            "5\n",
            "8\n",
            "13\n",
            "21\n",
            "34\n",
            "55\n"
          ]
        }
      ],
      "source": [
        "n=int(input(\"Enter a no.\"))\n",
        "x=0\n",
        "y=1\n",
        "z=0\n",
        "while(z<=n):\n",
        "    print(z)\n",
        "    x=y\n",
        "    y=z\n",
        "    z=x+y\n"
      ]
    },
    {
      "cell_type": "code",
      "source": [],
      "metadata": {
        "id": "RU3sbro0KHXB"
      },
      "execution_count": null,
      "outputs": []
    }
  ]
}